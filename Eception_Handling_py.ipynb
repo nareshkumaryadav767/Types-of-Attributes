{
  "nbformat": 4,
  "nbformat_minor": 0,
  "metadata": {
    "colab": {
      "provenance": [],
      "authorship_tag": "ABX9TyN1E6QlJSGmua/IIEorrnV2",
      "include_colab_link": true
    },
    "kernelspec": {
      "name": "python3",
      "display_name": "Python 3"
    },
    "language_info": {
      "name": "python"
    }
  },
  "cells": [
    {
      "cell_type": "markdown",
      "metadata": {
        "id": "view-in-github",
        "colab_type": "text"
      },
      "source": [
        "<a href=\"https://colab.research.google.com/github/nareshkumaryadav767/Types-of-Attributes/blob/main/Eception_Handling_py.ipynb\" target=\"_parent\"><img src=\"https://colab.research.google.com/assets/colab-badge.svg\" alt=\"Open In Colab\"/></a>"
      ]
    },
    {
      "cell_type": "code",
      "execution_count": null,
      "metadata": {
        "colab": {
          "base_uri": "https://localhost:8080/"
        },
        "id": "CIwIYv-RY2lO",
        "outputId": "8b96cbfd-1011-4313-a78c-011f307ad141"
      },
      "outputs": [
        {
          "output_type": "stream",
          "name": "stdout",
          "text": [
            "Hii\n",
            "provide the index of element to be printed\n",
            "1\n",
            "2\n",
            "bye\n"
          ]
        }
      ],
      "source": [
        "l = [1,2,3,4]\n",
        "print(\"Hii\")\n",
        "print(\"provide the index of element to be printed\")\n",
        "i = int(input())\n",
        "try:\n",
        "  print(l[i])\n",
        "except Exception as e:\n",
        "    print(e)\n",
        "print(\"bye\")"
      ]
    },
    {
      "cell_type": "code",
      "source": [
        "l = [1,2,3,4]\n",
        "print(\"Hii\")\n",
        "print(\"provide the index of element to be printed\")\n",
        "i = int(input())\n",
        "try:\n",
        "  c = 5/i\n",
        "  print(l[i])\n",
        "except ZeroDivisionError as e:\n",
        "    print(\"Zero Cannot be the denominator\")\n",
        "\n",
        "except Exception as e:\n",
        "  print(\"There is a runtime error\")\n",
        "finally:\n",
        "  print(\"I am inside Finally\")\n",
        "print(\"bye\")"
      ],
      "metadata": {
        "colab": {
          "base_uri": "https://localhost:8080/"
        },
        "id": "SIj6LX0-i8XU",
        "outputId": "afc0aa34-7fca-4c63-88a2-1bb4dcb077b7"
      },
      "execution_count": 1,
      "outputs": [
        {
          "output_type": "stream",
          "name": "stdout",
          "text": [
            "Hii\n",
            "provide the index of element to be printed\n",
            "2\n",
            "3\n",
            "I am inside Finally\n",
            "bye\n"
          ]
        }
      ]
    },
    {
      "cell_type": "code",
      "source": [
        "from google.colab import drive\n",
        "drive.mount('/content/drive')"
      ],
      "metadata": {
        "id": "aYBLHFZ7Up7U"
      },
      "execution_count": null,
      "outputs": []
    }
  ]
}